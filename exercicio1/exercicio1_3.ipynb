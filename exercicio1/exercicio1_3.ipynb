{
 "cells": [
  {
   "cell_type": "markdown",
   "id": "fe6e1df5",
   "metadata": {},
   "source": [
    "# 1 Packages"
   ]
  },
  {
   "cell_type": "code",
   "execution_count": 1,
   "id": "11c29996",
   "metadata": {},
   "outputs": [],
   "source": [
    "import pandas as pd\n",
    "import numpy as np\n",
    "import matplotlib.pyplot as plt\n",
    "import seaborn as sns"
   ]
  },
  {
   "cell_type": "markdown",
   "id": "c67e2bd6",
   "metadata": {},
   "source": [
    "## 1.1 Default Plots Configs"
   ]
  },
  {
   "cell_type": "code",
   "execution_count": 2,
   "id": "97f79e1f",
   "metadata": {},
   "outputs": [],
   "source": [
    "# Matplotlib\n",
    "%matplotlib inline\n",
    "plt.rcParams['font.size'] = 12\n",
    "plt.rcParams['figure.figsize'] = (15,4)\n",
    "plt.style.use('fivethirtyeight')\n",
    "plt.rcParams['axes.grid.axis'] = 'y'\n",
    "plt.rcParams[\"figure.facecolor\"] = 'f2f2f2'\n",
    "plt.rcParams[\"axes.facecolor\"] = 'f2f2f2'\n",
    "plt.rcParams[\"savefig.facecolor\"] = 'f2f2f2'"
   ]
  },
  {
   "cell_type": "markdown",
   "id": "f956256e",
   "metadata": {},
   "source": [
    "# 2. Data"
   ]
  },
  {
   "cell_type": "markdown",
   "id": "524722fe",
   "metadata": {},
   "source": [
    "## 2.1 Importing"
   ]
  },
  {
   "cell_type": "code",
   "execution_count": 3,
   "id": "cfb0d3be",
   "metadata": {},
   "outputs": [],
   "source": [
    "market = pd.read_csv('marketData.csv', parse_dates = [0], index_col = 'Date')\n",
    "sentiment = pd.read_csv('sentimentData.csv', parse_dates = [0], delimiter = ',', low_memory = False, usecols = np.arange(0,6))"
   ]
  },
  {
   "cell_type": "markdown",
   "id": "3240c8c5",
   "metadata": {},
   "source": [
    "## 2.2 Wrangling"
   ]
  },
  {
   "cell_type": "code",
   "execution_count": 4,
   "id": "645e1acb",
   "metadata": {
    "scrolled": true
   },
   "outputs": [],
   "source": [
    "# Removimg time and renaming the column 'TIMESTAMP' to 'Date'\n",
    "sentiment.TIMESTAMP = sentiment.TIMESTAMP.dt.date\n",
    "sentiment.rename(columns = {'TIMESTAMP' : 'Date'}, inplace = True)\n",
    "\n",
    "# Removing rows where RELEVANCE values are out of the range\n",
    "sentiment = sentiment.query('RELEVANCE >= -1 & RELEVANCE <= 1')\n",
    "\n",
    "# Removing rows where SENT probabilities values are out of the range\n",
    "sentiment = sentiment.query('SENT_POS + SENT_NEUT + SENT_NEG < 1.01 & SENT_POS + SENT_NEUT + SENT_NEG > 0.99')"
   ]
  },
  {
   "cell_type": "markdown",
   "id": "00fed492",
   "metadata": {},
   "source": [
    "## 2.3 Preprocessing"
   ]
  },
  {
   "cell_type": "markdown",
   "id": "31aa8161",
   "metadata": {},
   "source": [
    "### 2.3.1 Calculating the Score"
   ]
  },
  {
   "cell_type": "markdown",
   "id": "8eca2f99",
   "metadata": {},
   "source": [
    "#### 2.3.1.1 Score Base Formula"
   ]
  },
  {
   "cell_type": "code",
   "execution_count": null,
   "id": "c32b906c",
   "metadata": {},
   "outputs": [],
   "source": [
    "# Formula\n",
    "pos_weight = 1\n",
    "neut_weight = 0\n",
    "neg_weight = -1\n",
    "relevance_coef = 1\n",
    "\n",
    "sentiment_scores = pd.Series(dtype = 'float64')\n",
    "\n",
    "for index, row in sentiment.iterrows():\n",
    "    if(row['SENT_POS'] >= 0.7):\n",
    "        sentiment_scores = sentiment_scores.append(pd.Series(relevance_coef * row['RELEVANCE'] * (pos_weight * row['SENT_POS'])))\n",
    "    elif (row['SENT_NEG'] >= 0.7):\n",
    "        sentiment_scores = sentiment_scores.append(pd.Series(relevance_coef * row['RELEVANCE'] * (neg_weight * row['SENT_NEG'])))\n",
    "    else:\n",
    "        sentiment_scores = sentiment_scores.append(pd.Series(0))\n",
    "\n",
    "# Formatting\n",
    "sentiment_scores = sentiment_scores.reset_index().drop(['index'], axis = 1)\n",
    "sentiment_scores.rename(columns = {0 : 'Score'}, inplace = True)\n",
    "sentiment = sentiment.merge(sentiment_scores, left_index = True, right_index = True)\n",
    "\n",
    "# Aggregating Scores by Date and Stock\n",
    "sentiment = sentiment.groupby(['Date', 'STOCK']).mean()"
   ]
  },
  {
   "cell_type": "code",
   "execution_count": null,
   "id": "e4a5594c",
   "metadata": {},
   "outputs": [],
   "source": [
    "sentiment.head()"
   ]
  },
  {
   "cell_type": "markdown",
   "id": "b4d62c0e",
   "metadata": {},
   "source": [
    "#### 2.3.1.2 Score SMA and Pre Formatting Sentiment Table"
   ]
  },
  {
   "cell_type": "code",
   "execution_count": null,
   "id": "6cb8a841",
   "metadata": {
    "scrolled": true
   },
   "outputs": [],
   "source": [
    "# Dropping useless columns\n",
    "sentiment_score = sentiment.drop(['RELEVANCE', 'SENT_POS', 'SENT_NEUT', 'SENT_NEG'], axis = 1)\n",
    "sentiment_score = sentiment_score.reset_index(1)\n",
    "\n",
    "# Pivoting\n",
    "sentiment_score = sentiment_score.pivot(columns = 'STOCK', values = 'Score')\n",
    "\n",
    "# Filling the missing values \n",
    "sentiment_score = sentiment_score.fillna(method = 'ffill').fillna(method = 'bfill')\n",
    "\n",
    "# Calculating SP500 Score\n",
    "sentiment_score['SP500'] = sentiment_score.mean(axis=1)\n",
    "\n",
    "# Calculating SMA\n",
    "days = 30\n",
    "sentiment_score_sma = sentiment_score.rolling(window = days).mean()"
   ]
  },
  {
   "cell_type": "markdown",
   "id": "a5870804",
   "metadata": {},
   "source": [
    "### 2.3.2 Joining Sentiment and Market tables"
   ]
  },
  {
   "cell_type": "markdown",
   "id": "0a587eca",
   "metadata": {},
   "source": [
    "#### 2.3.2.1 Formatting Sentiment table"
   ]
  },
  {
   "cell_type": "code",
   "execution_count": null,
   "id": "0ee7f3dc",
   "metadata": {
    "scrolled": true
   },
   "outputs": [],
   "source": [
    "# Unpivoting\n",
    "sentiment_formated = sentiment_score_sma.melt(ignore_index = False, value_name = 'Value')\n",
    "sentiment_formated['ValueType'] = 'Sentiment Score'\n",
    "\n",
    "# Dropping missing values\n",
    "sentiment_formated.dropna(inplace = True)"
   ]
  },
  {
   "cell_type": "markdown",
   "id": "f0aeb6d5",
   "metadata": {},
   "source": [
    "#### 2.3.2.2 Formatting Market Table"
   ]
  },
  {
   "cell_type": "code",
   "execution_count": null,
   "id": "b769e5c2",
   "metadata": {},
   "outputs": [],
   "source": [
    "# Unpivoting\n",
    "market_formated = market.reset_index(0)\n",
    "market_formated = market_formated.melt(id_vars = ['Date'], var_name = 'STOCK', value_name = 'Value') \n",
    "market_formated['ValueType'] = 'Price'\n",
    "\n",
    "market_formated = market_formated.set_index('Date')"
   ]
  },
  {
   "cell_type": "markdown",
   "id": "017d0531",
   "metadata": {},
   "source": [
    "#### 2.3.2.3 Union"
   ]
  },
  {
   "cell_type": "code",
   "execution_count": null,
   "id": "7cdf2e97",
   "metadata": {},
   "outputs": [],
   "source": [
    "# Appending\n",
    "score_and_price = market_formated.append(sentiment_formated)\n",
    "score_and_price = score_and_price.reset_index()\n",
    "\n",
    "# Dropping missing values\n",
    "score_and_price.dropna(inplace = True)\n",
    "\n",
    "# Filtering values for SP500\n",
    "price_sp = score_and_price.query(\"STOCK == 'SP500' & ValueType == 'Price'\")\n",
    "score_sp = score_and_price.query(\"STOCK == 'SP500' & ValueType == 'Sentiment Score'\")"
   ]
  },
  {
   "cell_type": "markdown",
   "id": "2b4b2f43",
   "metadata": {},
   "source": [
    "# 3. Charts"
   ]
  },
  {
   "cell_type": "markdown",
   "id": "1d3f5abf",
   "metadata": {},
   "source": [
    "## 3.1 Stocks & Sentiment Scores"
   ]
  },
  {
   "cell_type": "code",
   "execution_count": null,
   "id": "a7d60f4f",
   "metadata": {},
   "outputs": [],
   "source": [
    "fig = sns.FacetGrid(score_and_price, col = 'ValueType', row  = 'STOCK', hue = 'STOCK', sharex = False, \n",
    "                    sharey = False, height = 5, aspect = 2.5)\n",
    "\n",
    "fig.map(sns.lineplot, 'Date', 'Value', lw = 2)"
   ]
  },
  {
   "cell_type": "markdown",
   "id": "670d1bbb",
   "metadata": {},
   "source": [
    "## 3.2 SP500 & Sentiment Scores"
   ]
  },
  {
   "cell_type": "code",
   "execution_count": null,
   "id": "d68224db",
   "metadata": {
    "scrolled": false
   },
   "outputs": [],
   "source": [
    "# Figure\n",
    "fig, ax1 = plt.subplots()\n",
    "\n",
    "# Axes 1\n",
    "ax1.plot(price_sp.Date, price_sp.Value, color = \"darkred\", lw = 1.5)\n",
    "ax1.set(xlabel = 'Date', ylabel = 'Price', title = 'SP500')\n",
    "plt.setp(ax1.title, fontweight = 'bold')\n",
    "\n",
    "# Axes 2\n",
    "ax2 = ax1.twinx()\n",
    "ax2.plot(score_sp.Date, score_sp.Value, color = \"darkblue\", lw = 1.5)\n",
    "ax2.set(ylabel = 'Sentiment Score')\n",
    "ax2.set_ylim(-0.1, 0.1)\n",
    "\n",
    "# Plotting\n",
    "plt.show()"
   ]
  },
  {
   "cell_type": "markdown",
   "id": "31f8d0a3",
   "metadata": {},
   "source": [
    "# 4 Evaluating Score Formula"
   ]
  },
  {
   "cell_type": "markdown",
   "id": "1d1b6dbc",
   "metadata": {},
   "source": [
    "## 4.1 Wrangling Data"
   ]
  },
  {
   "cell_type": "code",
   "execution_count": null,
   "id": "147e75b7",
   "metadata": {},
   "outputs": [],
   "source": [
    "# Formatting Sentiment table\n",
    "sentiment_reg_format = sentiment.drop(['RELEVANCE', 'SENT_POS', 'SENT_NEUT', 'SENT_NEG'], axis = 1)\n",
    "sentiment_reg_format = sentiment_reg_format.groupby(['Date']).mean()\n",
    "\n",
    "# Formatting Market table\n",
    "market_reg_format = market_formated.query(\"STOCK == 'SP500'\")\n",
    "market_reg_format = market_reg_format.drop(['STOCK', 'ValueType'], axis = 1)\n",
    "\n",
    "# Joining tables\n",
    "sentiment_and_price = market_reg_format.join(sentiment_reg_format)\n",
    "sentiment_and_price = sentiment_and_price.rename(columns = {'Value' : 'PRICE'})\n",
    "\n",
    "# Formatting final table\n",
    "sentiment_and_price = sentiment_and_price.reset_index(0, drop = True)\n",
    "price_column = sentiment_and_price.pop('PRICE')\n",
    "sentiment_and_price.insert(1, 'PRICE', price_column)"
   ]
  },
  {
   "cell_type": "markdown",
   "id": "bbd67b2d",
   "metadata": {},
   "source": [
    "## 4.2 Pearson R "
   ]
  },
  {
   "cell_type": "code",
   "execution_count": null,
   "id": "e8c84eed",
   "metadata": {},
   "outputs": [],
   "source": [
    "sentiment_and_price.corr()"
   ]
  }
 ],
 "metadata": {
  "kernelspec": {
   "display_name": "Python 3",
   "language": "python",
   "name": "python3"
  },
  "language_info": {
   "codemirror_mode": {
    "name": "ipython",
    "version": 3
   },
   "file_extension": ".py",
   "mimetype": "text/x-python",
   "name": "python",
   "nbconvert_exporter": "python",
   "pygments_lexer": "ipython3",
   "version": "3.8.8"
  }
 },
 "nbformat": 4,
 "nbformat_minor": 5
}
